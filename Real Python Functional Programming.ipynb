{
 "cells": [
  {
   "cell_type": "code",
   "execution_count": 5,
   "metadata": {},
   "outputs": [],
   "source": [
    "from collections import namedtuple\n",
    "\n",
    "Scientist = namedtuple('Scientist', [\n",
    "    'name',\n",
    "    'field',\n",
    "    'born',\n",
    "    'nobel',\n",
    "])"
   ]
  },
  {
   "cell_type": "code",
   "execution_count": 6,
   "metadata": {},
   "outputs": [],
   "source": [
    "scientists = (\n",
    "    Scientist(name='Ada Lovelace', field='math', born=1815, nobel=False),\n",
    "    Scientist(name='Emmy Noether', field='math', born=1882, nobel=False),\n",
    "    Scientist(name='Marie Curie', field='physics', born=1867, nobel=True),\n",
    "    Scientist(name='Tu Youyou', field='chemistry', born=1930, nobel=True),\n",
    "    Scientist(name='Ada Yonath', field='chemistry', born=1939, nobel=True),\n",
    "    Scientist(name='Vera Rubin', field='astronomy', born=1928, nobel=False),\n",
    "    Scientist(name='Sally Ride', field='physics', born=1951, nobel=False),\n",
    ")"
   ]
  },
  {
   "cell_type": "code",
   "execution_count": 7,
   "metadata": {},
   "outputs": [
    {
     "name": "stdout",
     "output_type": "stream",
     "text": [
      "Scientist(name='Marie Curie', field='physics', born=1867, nobel=True)\n",
      "Scientist(name='Tu Youyou', field='chemistry', born=1930, nobel=True)\n",
      "Scientist(name='Ada Yonath', field='chemistry', born=1939, nobel=True)\n"
     ]
    }
   ],
   "source": [
    "# Filter works by taking a function and an iterable as arguments and filtering results based on whether they are true or false\n",
    "# It is equivalent to: x for x in iterable if function(x))\n",
    "# Lambda acts as a basic function which doesn't require a 'def' statement\n",
    "# In this case each item in scientsists is passed into the lambda function and checked to see if the nobel field returns true\n",
    "\n",
    "filter_list = filter(lambda x: x.nobel, scientists)\n",
    "\n",
    "# The filter method returns an iterator\n",
    "\n",
    "for item in filter_list:\n",
    "    print(item)"
   ]
  },
  {
   "cell_type": "code",
   "execution_count": 8,
   "metadata": {},
   "outputs": [
    {
     "name": "stdout",
     "output_type": "stream",
     "text": [
      "Scientist(name='Marie Curie', field='physics', born=1867, nobel=True)\n",
      "Scientist(name='Tu Youyou', field='chemistry', born=1930, nobel=True)\n",
      "Scientist(name='Ada Yonath', field='chemistry', born=1939, nobel=True)\n"
     ]
    }
   ],
   "source": [
    "# The non-lambda way of achieving the same goal\n",
    "\n",
    "def nobel_prize(person):\n",
    "    if person.nobel is True:\n",
    "        return person\n",
    "\n",
    "filter_nobel = filter(nobel_prize, scientists)\n",
    "\n",
    "for item in filter_nobel:\n",
    "    print(item)"
   ]
  },
  {
   "cell_type": "code",
   "execution_count": 9,
   "metadata": {},
   "outputs": [
    {
     "name": "stdout",
     "output_type": "stream",
     "text": [
      "(Scientist(name='Marie Curie', field='physics', born=1867, nobel=True),\n",
      " Scientist(name='Tu Youyou', field='chemistry', born=1930, nobel=True),\n",
      " Scientist(name='Ada Yonath', field='chemistry', born=1939, nobel=True))\n"
     ]
    }
   ],
   "source": [
    "# Or it can be cast to a tuple to make the filtered data immutable\n",
    "filter_scientist = tuple(filter(lambda x: x.nobel, scientists))\n",
    "\n",
    "#  pprint module (pretty-print) formats data structures into a more readable format\n",
    "from pprint import pprint\n",
    "pprint(filter_scientist)"
   ]
  },
  {
   "cell_type": "code",
   "execution_count": 10,
   "metadata": {},
   "outputs": [
    {
     "name": "stdout",
     "output_type": "stream",
     "text": [
      "(Scientist(name='Marie Curie', field='physics', born=1867, nobel=True),)\n"
     ]
    }
   ],
   "source": [
    "# You can also add multiple conditions to filter the results\n",
    "pprint(tuple(filter(lambda x: x.field=='physics' and x.nobel, scientists)))"
   ]
  },
  {
   "cell_type": "code",
   "execution_count": 11,
   "metadata": {},
   "outputs": [
    {
     "data": {
      "text/plain": [
       "[Scientist(name='Marie Curie', field='physics', born=1867, nobel=True),\n",
       " Scientist(name='Tu Youyou', field='chemistry', born=1930, nobel=True),\n",
       " Scientist(name='Ada Yonath', field='chemistry', born=1939, nobel=True)]"
      ]
     },
     "execution_count": 11,
     "metadata": {},
     "output_type": "execute_result"
    }
   ],
   "source": [
    "# Can also use list comprehension instead of filter\n",
    "[x for x in scientists if x.nobel]"
   ]
  },
  {
   "cell_type": "code",
   "execution_count": 12,
   "metadata": {},
   "outputs": [
    {
     "data": {
      "text/plain": [
       "(Scientist(name='Marie Curie', field='physics', born=1867, nobel=True),\n",
       " Scientist(name='Tu Youyou', field='chemistry', born=1930, nobel=True),\n",
       " Scientist(name='Ada Yonath', field='chemistry', born=1939, nobel=True))"
      ]
     },
     "execution_count": 12,
     "metadata": {},
     "output_type": "execute_result"
    }
   ],
   "source": [
    "# Or you can omit the square brackets to create a \"generator comprehension\" and turn the result into a tuple\n",
    "# A generator comprenhension is a python built-in for defining a simple generator in a single line of code\n",
    "# They have the syntax: (<expression> for <var> in <iterable> [if <condition>])\n",
    "\n",
    "tuple(x for x in scientists if x.nobel)"
   ]
  },
  {
   "cell_type": "code",
   "execution_count": 13,
   "metadata": {},
   "outputs": [
    {
     "name": "stdout",
     "output_type": "stream",
     "text": [
      "({'age': 205, 'name': 'Ada Lovelace'},\n",
      " {'age': 138, 'name': 'Emmy Noether'},\n",
      " {'age': 153, 'name': 'Marie Curie'},\n",
      " {'age': 90, 'name': 'Tu Youyou'},\n",
      " {'age': 81, 'name': 'Ada Yonath'},\n",
      " {'age': 92, 'name': 'Vera Rubin'},\n",
      " {'age': 69, 'name': 'Sally Ride'})\n"
     ]
    }
   ],
   "source": [
    "# The map() function applies a given function to each item of an iterable\n",
    "# In this case we have created a tuple of dictionaries in which the name and age keys have been mapped \n",
    "# They have been mapped with data taken from attributes of the scientists named tuple\n",
    "\n",
    "names_and_ages = tuple(map(lambda x: {'name': x.name, 'age': 2020 - x.born}, scientists))\n",
    "pprint(names_and_ages)"
   ]
  },
  {
   "cell_type": "code",
   "execution_count": 15,
   "metadata": {},
   "outputs": [
    {
     "name": "stdout",
     "output_type": "stream",
     "text": [
      "({'age': 205, 'name': 'Ada Lovelace'},\n",
      " {'age': 138, 'name': 'Emmy Noether'},\n",
      " {'age': 153, 'name': 'Marie Curie'},\n",
      " {'age': 90, 'name': 'Tu Youyou'},\n",
      " {'age': 81, 'name': 'Ada Yonath'},\n",
      " {'age': 92, 'name': 'Vera Rubin'},\n",
      " {'age': 69, 'name': 'Sally Ride'})\n"
     ]
    }
   ],
   "source": [
    "# Or again you can use a generator comprehension instead\n",
    "\n",
    "pprint(tuple({'name': x.name, 'age': 2020 - x.born} for x in scientists))"
   ]
  },
  {
   "cell_type": "code",
   "execution_count": null,
   "metadata": {},
   "outputs": [],
   "source": []
  }
 ],
 "metadata": {
  "kernelspec": {
   "display_name": "Python 3",
   "language": "python",
   "name": "python3"
  },
  "language_info": {
   "codemirror_mode": {
    "name": "ipython",
    "version": 3
   },
   "file_extension": ".py",
   "mimetype": "text/x-python",
   "name": "python",
   "nbconvert_exporter": "python",
   "pygments_lexer": "ipython3",
   "version": "3.6.10"
  }
 },
 "nbformat": 4,
 "nbformat_minor": 2
}
